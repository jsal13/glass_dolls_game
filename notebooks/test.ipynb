{
 "cells": [
  {
   "cell_type": "code",
   "execution_count": 1,
   "metadata": {},
   "outputs": [],
   "source": [
    "import numpy as np"
   ]
  },
  {
   "cell_type": "code",
   "execution_count": null,
   "metadata": {},
   "outputs": [],
   "source": [
    "\n"
   ]
  },
  {
   "cell_type": "code",
   "execution_count": 81,
   "metadata": {},
   "outputs": [
    {
     "name": "stdout",
     "output_type": "stream",
     "text": [
      "0\n",
      "[[ 0  1  2]\n",
      " [ 7  8  9]\n",
      " [14 15 16]\n",
      " [21 22 23]\n",
      " [28 29 30]\n",
      " [35 36 37]\n",
      " [42 43 44]]\n",
      "1\n",
      "[[ 0  1  2  3]\n",
      " [ 7  8  9 10]\n",
      " [14 15 16 17]\n",
      " [21 22 23 24]\n",
      " [28 29 30 31]\n",
      " [35 36 37 38]\n",
      " [42 43 44 45]]\n",
      "2\n",
      "[[ 0  1  2  3  4]\n",
      " [ 7  8  9 10 11]\n",
      " [14 15 16 17 18]\n",
      " [21 22 23 24 25]\n",
      " [28 29 30 31 32]\n",
      " [35 36 37 38 39]\n",
      " [42 43 44 45 46]]\n",
      "3\n",
      "[[ 1  2  3  4  5]\n",
      " [ 8  9 10 11 12]\n",
      " [15 16 17 18 19]\n",
      " [22 23 24 25 26]\n",
      " [29 30 31 32 33]\n",
      " [36 37 38 39 40]\n",
      " [43 44 45 46 47]]\n",
      "4\n",
      "[[ 1  2  3  4  5  6]\n",
      " [ 8  9 10 11 12 13]\n",
      " [15 16 17 18 19 20]\n",
      " [22 23 24 25 26 27]\n",
      " [29 30 31 32 33 34]\n",
      " [36 37 38 39 40 41]\n",
      " [43 44 45 46 47 48]]\n",
      "5\n",
      "[[ 1  2  3  4  5  6]\n",
      " [ 8  9 10 11 12 13]\n",
      " [15 16 17 18 19 20]\n",
      " [22 23 24 25 26 27]\n",
      " [29 30 31 32 33 34]\n",
      " [36 37 38 39 40 41]\n",
      " [43 44 45 46 47 48]]\n",
      "6\n",
      "[[ 2  3  4  5  6]\n",
      " [ 9 10 11 12 13]\n",
      " [16 17 18 19 20]\n",
      " [23 24 25 26 27]\n",
      " [30 31 32 33 34]\n",
      " [37 38 39 40 41]\n",
      " [44 45 46 47 48]]\n"
     ]
    }
   ],
   "source": [
    "a = np.arange(0, 49)\n",
    "a.resize(7,7)\n",
    "max_size = 5\n",
    "\n",
    "x = 1\n",
    "y = 3\n",
    "window_size = int((max_size - 1) / 2)\n",
    "left_bound = 7 - max_size if max(0, x - window_size)\n",
    "\n",
    "\n"
   ]
  },
  {
   "cell_type": "code",
   "execution_count": 66,
   "metadata": {},
   "outputs": [
    {
     "name": "stdout",
     "output_type": "stream",
     "text": [
      "2 2\n",
      "[]\n"
     ]
    }
   ],
   "source": [
    "\n"
   ]
  },
  {
   "cell_type": "code",
   "execution_count": null,
   "metadata": {},
   "outputs": [],
   "source": []
  },
  {
   "cell_type": "code",
   "execution_count": null,
   "metadata": {},
   "outputs": [],
   "source": []
  }
 ],
 "metadata": {
  "kernelspec": {
   "display_name": ".venv",
   "language": "python",
   "name": "python3"
  },
  "language_info": {
   "codemirror_mode": {
    "name": "ipython",
    "version": 3
   },
   "file_extension": ".py",
   "mimetype": "text/x-python",
   "name": "python",
   "nbconvert_exporter": "python",
   "pygments_lexer": "ipython3",
   "version": "3.10.14"
  }
 },
 "nbformat": 4,
 "nbformat_minor": 2
}
