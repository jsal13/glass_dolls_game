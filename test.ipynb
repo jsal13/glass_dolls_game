{
    "cells": [
        {
            "cell_type": "code",
            "execution_count": 1,
            "metadata": {},
            "outputs": [],
            "source": [
                "from glassdolls.db_clients import MongoDB, PostgresDB\n",
                "from glassdolls.data_init import Initializer\n",
                "\n",
                "mdb = MongoDB()\n",
                "mdb.connect()\n",
                "\n",
                "pgdb = PostgresDB()\n",
                "pgdb.connect()"
            ]
        },
        {
            "cell_type": "code",
            "execution_count": 2,
            "metadata": {},
            "outputs": [],
            "source": [
                "init = Initializer(pg=PostgresDB(), mongodb=MongoDB()).initialize_all()"
            ]
        },
        {
            "cell_type": "code",
            "execution_count": 5,
            "metadata": {},
            "outputs": [
                {
                    "data": {
                        "text/plain": [
                            "[(1, 'Earth', 'REO DOE'),\n",
                            " (2, 'Wind', 'SWA IOSC'),\n",
                            " (3, 'Water', 'OYSC ZEY'),\n",
                            " (4, 'Fire', 'BIA DRA'),\n",
                            " (5, 'Ice', 'TWE IOCRE'),\n",
                            " (6, 'Heal', 'YUKN ZWAE')]"
                        ]
                    },
                    "execution_count": 5,
                    "metadata": {},
                    "output_type": "execute_result"
                }
            ],
            "source": [
                "# vals = mdb.query(collection=\"phrases\", query={})\n",
                "# vals\n",
                "\n",
                "pgdb.query(\"select * from spells\")"
            ]
        },
        {
            "cell_type": "code",
            "execution_count": 66,
            "metadata": {},
            "outputs": [
                {
                    "name": "stdout",
                    "output_type": "stream",
                    "text": [
                        "2 2\n",
                        "[]\n"
                    ]
                }
            ],
            "source": [
                "\n"
            ]
        },
        {
            "cell_type": "code",
            "execution_count": null,
            "metadata": {},
            "outputs": [],
            "source": []
        },
        {
            "cell_type": "code",
            "execution_count": null,
            "metadata": {},
            "outputs": [],
            "source": []
        }
    ],
    "metadata": {
        "kernelspec": {
            "display_name": ".venv",
            "language": "python",
            "name": "python3"
        },
        "language_info": {
            "codemirror_mode": {
                "name": "ipython",
                "version": 3
            },
            "file_extension": ".py",
            "mimetype": "text/x-python",
            "name": "python",
            "nbconvert_exporter": "python",
            "pygments_lexer": "ipython3",
            "version": "3.10.14"
        }
    },
    "nbformat": 4,
    "nbformat_minor": 2
}
